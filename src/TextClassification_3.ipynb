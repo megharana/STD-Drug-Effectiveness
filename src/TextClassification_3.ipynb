{
 "cells": [
  {
   "cell_type": "code",
   "execution_count": 79,
   "metadata": {},
   "outputs": [],
   "source": [
    "import pandas as pd\n",
    "# preparing dataframes out of train and test csv\n",
    "df_train = pd.read_csv(\"../dataset/train.csv\", parse_dates=[\"drug_approved_by_UIC\"])\n",
    "df_test = pd.read_csv(\"../dataset/test.csv\", parse_dates=[\"drug_approved_by_UIC\"])"
   ]
  },
  {
   "cell_type": "code",
   "execution_count": 80,
   "metadata": {},
   "outputs": [
    {
     "name": "stdout",
     "output_type": "stream",
     "text": [
      "CPU times: user 36.4 s, sys: 575 ms, total: 37 s\n",
      "Wall time: 40.5 s\n"
     ]
    },
    {
     "name": "stderr",
     "output_type": "stream",
     "text": [
      "\r",
      "  0%|          | 0/32165 [00:00<?, ?it/s]"
     ]
    },
    {
     "name": "stdout",
     "output_type": "stream",
     "text": [
      "CPU times: user 14.9 s, sys: 303 ms, total: 15.2 s\n",
      "Wall time: 22.4 s\n"
     ]
    },
    {
     "name": "stderr",
     "output_type": "stream",
     "text": [
      "100%|██████████| 32165/32165 [00:22<00:00, 1449.16it/s]\n",
      "100%|██████████| 10760/10760 [00:09<00:00, 1114.12it/s]\n"
     ]
    }
   ],
   "source": [
    "# cleaning review text \n",
    "\n",
    "from bs4 import BeautifulSoup\n",
    "import nltk\n",
    "from nltk.corpus import stopwords\n",
    "from nltk.stem.snowball import SnowballStemmer\n",
    "\n",
    "\n",
    "#list of stop words in \n",
    "stops = set(stopwords.words('english'))\n",
    "#removing words which are not stop words from \"stops\" (key elements in emotional analysis)\n",
    "not_stop = [\"aren't\",\"couldn't\",\"didn't\",\"doesn't\",\"don't\",\n",
    "            \"hadn't\",\"hasn't\",\"haven't\",\"isn't\",\"mightn't\",\n",
    "            \"mustn't\",\"needn't\",\"no\",\"nor\",\"not\",\"shan't\",\n",
    "            \"shouldn't\",\"wasn't\",\"weren't\",\"wouldn't\"]\n",
    "\n",
    "for i in not_stop:\n",
    "    stops.remove(i)\n",
    "\n",
    "import re\n",
    "\n",
    "stemmer = SnowballStemmer('english')\n",
    "def review_to_words(raw_review):\n",
    "    '''\n",
    "    method that returns cleaned review after excluding all stop words.\n",
    "    '''\n",
    "    # 1. Delete HTML \n",
    "    review_text = BeautifulSoup(raw_review, 'html.parser').get_text()\n",
    "    # 2. Make a space\n",
    "    letters_only = re.sub('[^a-zA-Z]', ' ', review_text)\n",
    "    # 3. lower letters\n",
    "    words = letters_only.lower().split()\n",
    "    # 5. Stopwords \n",
    "    meaningful_words = [w for w in words if not w in stops]\n",
    "    # 6. Stemming\n",
    "    stemming_words = [stemmer.stem(w) for w in meaningful_words]\n",
    "    # 7. space join words\n",
    "    return( ' '.join(stemming_words))\n",
    "\n",
    "# stemmed review added to dataframe\n",
    "%time df_train['review_clean'] = df_train['review_by_patient'].apply(review_to_words)\n",
    "%time df_test['review_clean'] = df_test['review_by_patient'].apply(review_to_words)\n",
    "\n",
    "\n",
    "#predicting sentiments from review clean in both datasets.\n",
    "\n",
    "from textblob import TextBlob # for using NLP functionality\n",
    "from tqdm import tqdm\n",
    "reviews_train = df_train['review_clean']\n",
    "reviews_test = df_test['review_clean']\n",
    "\n",
    "Predict_Sentiment = []\n",
    "for review in tqdm(reviews_train):\n",
    "    blob = TextBlob(review)\n",
    "    '''\n",
    "    if the polarity is >0, it is considered positive, \n",
    "    <0 -is considered negative and ==0 is considered neutral.\n",
    "    '''\n",
    "    Predict_Sentiment += [blob.sentiment.polarity]\n",
    "df_train[\"Predict_Sentiment\"] = Predict_Sentiment\n",
    "Predict_Sentiment = []\n",
    "for review in tqdm(reviews_test):\n",
    "    blob = TextBlob(review)\n",
    "    '''\n",
    "    if the polarity is >0, it is considered positive, \n",
    "    <0 -is considered negative and ==0 is considered neutral.\n",
    "    '''\n",
    "    Predict_Sentiment += [blob.sentiment.polarity]\n",
    "df_test[\"Predict_Sentiment\"] = Predict_Sentiment\n",
    "\n",
    "\n",
    "from nltk.sentiment.vader import SentimentIntensityAnalyzer\n",
    "\n",
    "sid = SentimentIntensityAnalyzer()\n",
    "df_train[\"Predict_Sentiment_compound\"] = df_train[\"review_clean\"].apply(lambda x: sid.polarity_scores(x))\n",
    "df_test[\"Predict_Sentiment_compound\"] = df_test[\"review_clean\"].apply(lambda x: sid.polarity_scores(x))\n"
   ]
  },
  {
   "cell_type": "code",
   "execution_count": 81,
   "metadata": {},
   "outputs": [
    {
     "data": {
      "text/html": [
       "<div>\n",
       "<style scoped>\n",
       "    .dataframe tbody tr th:only-of-type {\n",
       "        vertical-align: middle;\n",
       "    }\n",
       "\n",
       "    .dataframe tbody tr th {\n",
       "        vertical-align: top;\n",
       "    }\n",
       "\n",
       "    .dataframe thead th {\n",
       "        text-align: right;\n",
       "    }\n",
       "</style>\n",
       "<table border=\"1\" class=\"dataframe\">\n",
       "  <thead>\n",
       "    <tr style=\"text-align: right;\">\n",
       "      <th></th>\n",
       "      <th>patient_id</th>\n",
       "      <th>name_of_drug</th>\n",
       "      <th>use_case_for_drug</th>\n",
       "      <th>review_by_patient</th>\n",
       "      <th>effectiveness_rating</th>\n",
       "      <th>drug_approved_by_UIC</th>\n",
       "      <th>number_of_times_prescribed</th>\n",
       "      <th>base_score</th>\n",
       "      <th>review_clean</th>\n",
       "      <th>Predict_Sentiment</th>\n",
       "      <th>Predict_Sentiment_compound</th>\n",
       "    </tr>\n",
       "  </thead>\n",
       "  <tbody>\n",
       "    <tr>\n",
       "      <th>0</th>\n",
       "      <td>206461</td>\n",
       "      <td>Valsartan</td>\n",
       "      <td>Left Ventricular Dysfunction</td>\n",
       "      <td>\"It has no side effect, I take it in combinati...</td>\n",
       "      <td>9</td>\n",
       "      <td>2012-05-20</td>\n",
       "      <td>27</td>\n",
       "      <td>8.022969</td>\n",
       "      <td>no side effect take combin bystol mg fish oil</td>\n",
       "      <td>0.000000</td>\n",
       "      <td>{'neg': 0.216, 'neu': 0.784, 'pos': 0.0, 'comp...</td>\n",
       "    </tr>\n",
       "    <tr>\n",
       "      <th>1</th>\n",
       "      <td>95260</td>\n",
       "      <td>Guanfacine</td>\n",
       "      <td>ADHD</td>\n",
       "      <td>\"My son is halfway through his fourth week of ...</td>\n",
       "      <td>8</td>\n",
       "      <td>2010-04-27</td>\n",
       "      <td>192</td>\n",
       "      <td>7.858458</td>\n",
       "      <td>son halfway fourth week intuniv becam concern ...</td>\n",
       "      <td>0.114583</td>\n",
       "      <td>{'neg': 0.056, 'neu': 0.823, 'pos': 0.121, 'co...</td>\n",
       "    </tr>\n",
       "    <tr>\n",
       "      <th>2</th>\n",
       "      <td>92703</td>\n",
       "      <td>Lybrel</td>\n",
       "      <td>Birth Control</td>\n",
       "      <td>\"I used to take another oral contraceptive, wh...</td>\n",
       "      <td>5</td>\n",
       "      <td>2009-12-14</td>\n",
       "      <td>17</td>\n",
       "      <td>6.341969</td>\n",
       "      <td>use take anoth oral contracept pill cycl happi...</td>\n",
       "      <td>0.105000</td>\n",
       "      <td>{'neg': 0.03, 'neu': 0.926, 'pos': 0.044, 'com...</td>\n",
       "    </tr>\n",
       "    <tr>\n",
       "      <th>3</th>\n",
       "      <td>35696</td>\n",
       "      <td>Buprenorphine / naloxone</td>\n",
       "      <td>Opiate Dependence</td>\n",
       "      <td>\"Suboxone has completely turned my life around...</td>\n",
       "      <td>9</td>\n",
       "      <td>2016-11-27</td>\n",
       "      <td>37</td>\n",
       "      <td>6.590176</td>\n",
       "      <td>suboxon complet turn life around feel healthie...</td>\n",
       "      <td>0.147037</td>\n",
       "      <td>{'neg': 0.073, 'neu': 0.707, 'pos': 0.219, 'co...</td>\n",
       "    </tr>\n",
       "    <tr>\n",
       "      <th>4</th>\n",
       "      <td>155963</td>\n",
       "      <td>Cialis</td>\n",
       "      <td>Benign Prostatic Hyperplasia</td>\n",
       "      <td>\"2nd day on 5mg started to work with rock hard...</td>\n",
       "      <td>2</td>\n",
       "      <td>2015-11-28</td>\n",
       "      <td>43</td>\n",
       "      <td>6.144782</td>\n",
       "      <td>nd day mg start work rock hard erect howev exp...</td>\n",
       "      <td>-0.013889</td>\n",
       "      <td>{'neg': 0.196, 'neu': 0.702, 'pos': 0.103, 'co...</td>\n",
       "    </tr>\n",
       "  </tbody>\n",
       "</table>\n",
       "</div>"
      ],
      "text/plain": [
       "   patient_id              name_of_drug             use_case_for_drug  \\\n",
       "0      206461                 Valsartan  Left Ventricular Dysfunction   \n",
       "1       95260                Guanfacine                          ADHD   \n",
       "2       92703                    Lybrel                 Birth Control   \n",
       "3       35696  Buprenorphine / naloxone             Opiate Dependence   \n",
       "4      155963                    Cialis  Benign Prostatic Hyperplasia   \n",
       "\n",
       "                                   review_by_patient  effectiveness_rating  \\\n",
       "0  \"It has no side effect, I take it in combinati...                     9   \n",
       "1  \"My son is halfway through his fourth week of ...                     8   \n",
       "2  \"I used to take another oral contraceptive, wh...                     5   \n",
       "3  \"Suboxone has completely turned my life around...                     9   \n",
       "4  \"2nd day on 5mg started to work with rock hard...                     2   \n",
       "\n",
       "  drug_approved_by_UIC  number_of_times_prescribed  base_score  \\\n",
       "0           2012-05-20                          27    8.022969   \n",
       "1           2010-04-27                         192    7.858458   \n",
       "2           2009-12-14                          17    6.341969   \n",
       "3           2016-11-27                          37    6.590176   \n",
       "4           2015-11-28                          43    6.144782   \n",
       "\n",
       "                                        review_clean  Predict_Sentiment  \\\n",
       "0      no side effect take combin bystol mg fish oil           0.000000   \n",
       "1  son halfway fourth week intuniv becam concern ...           0.114583   \n",
       "2  use take anoth oral contracept pill cycl happi...           0.105000   \n",
       "3  suboxon complet turn life around feel healthie...           0.147037   \n",
       "4  nd day mg start work rock hard erect howev exp...          -0.013889   \n",
       "\n",
       "                          Predict_Sentiment_compound  \n",
       "0  {'neg': 0.216, 'neu': 0.784, 'pos': 0.0, 'comp...  \n",
       "1  {'neg': 0.056, 'neu': 0.823, 'pos': 0.121, 'co...  \n",
       "2  {'neg': 0.03, 'neu': 0.926, 'pos': 0.044, 'com...  \n",
       "3  {'neg': 0.073, 'neu': 0.707, 'pos': 0.219, 'co...  \n",
       "4  {'neg': 0.196, 'neu': 0.702, 'pos': 0.103, 'co...  "
      ]
     },
     "execution_count": 81,
     "metadata": {},
     "output_type": "execute_result"
    }
   ],
   "source": [
    "df_train.head()"
   ]
  },
  {
   "cell_type": "code",
   "execution_count": 82,
   "metadata": {},
   "outputs": [],
   "source": [
    "df_train = pd.concat([df_train.drop(['Predict_Sentiment_compound'], axis=1), df_train['Predict_Sentiment_compound'].apply(pd.Series)], axis=1)\n",
    "df_test = pd.concat([df_test.drop(['Predict_Sentiment_compound'], axis=1), df_test['Predict_Sentiment_compound'].apply(pd.Series)], axis=1)\n",
    "\n"
   ]
  },
  {
   "cell_type": "code",
   "execution_count": 83,
   "metadata": {},
   "outputs": [
    {
     "data": {
      "text/html": [
       "<div>\n",
       "<style scoped>\n",
       "    .dataframe tbody tr th:only-of-type {\n",
       "        vertical-align: middle;\n",
       "    }\n",
       "\n",
       "    .dataframe tbody tr th {\n",
       "        vertical-align: top;\n",
       "    }\n",
       "\n",
       "    .dataframe thead th {\n",
       "        text-align: right;\n",
       "    }\n",
       "</style>\n",
       "<table border=\"1\" class=\"dataframe\">\n",
       "  <thead>\n",
       "    <tr style=\"text-align: right;\">\n",
       "      <th></th>\n",
       "      <th>patient_id</th>\n",
       "      <th>name_of_drug</th>\n",
       "      <th>use_case_for_drug</th>\n",
       "      <th>review_by_patient</th>\n",
       "      <th>effectiveness_rating</th>\n",
       "      <th>drug_approved_by_UIC</th>\n",
       "      <th>number_of_times_prescribed</th>\n",
       "      <th>base_score</th>\n",
       "      <th>review_clean</th>\n",
       "      <th>Predict_Sentiment</th>\n",
       "      <th>neg</th>\n",
       "      <th>neu</th>\n",
       "      <th>pos</th>\n",
       "      <th>compound</th>\n",
       "    </tr>\n",
       "  </thead>\n",
       "  <tbody>\n",
       "    <tr>\n",
       "      <th>0</th>\n",
       "      <td>206461</td>\n",
       "      <td>Valsartan</td>\n",
       "      <td>Left Ventricular Dysfunction</td>\n",
       "      <td>\"It has no side effect, I take it in combinati...</td>\n",
       "      <td>9</td>\n",
       "      <td>2012-05-20</td>\n",
       "      <td>27</td>\n",
       "      <td>8.022969</td>\n",
       "      <td>no side effect take combin bystol mg fish oil</td>\n",
       "      <td>0.000000</td>\n",
       "      <td>0.216</td>\n",
       "      <td>0.784</td>\n",
       "      <td>0.000</td>\n",
       "      <td>-0.2960</td>\n",
       "    </tr>\n",
       "    <tr>\n",
       "      <th>1</th>\n",
       "      <td>95260</td>\n",
       "      <td>Guanfacine</td>\n",
       "      <td>ADHD</td>\n",
       "      <td>\"My son is halfway through his fourth week of ...</td>\n",
       "      <td>8</td>\n",
       "      <td>2010-04-27</td>\n",
       "      <td>192</td>\n",
       "      <td>7.858458</td>\n",
       "      <td>son halfway fourth week intuniv becam concern ...</td>\n",
       "      <td>0.114583</td>\n",
       "      <td>0.056</td>\n",
       "      <td>0.823</td>\n",
       "      <td>0.121</td>\n",
       "      <td>0.6929</td>\n",
       "    </tr>\n",
       "    <tr>\n",
       "      <th>2</th>\n",
       "      <td>92703</td>\n",
       "      <td>Lybrel</td>\n",
       "      <td>Birth Control</td>\n",
       "      <td>\"I used to take another oral contraceptive, wh...</td>\n",
       "      <td>5</td>\n",
       "      <td>2009-12-14</td>\n",
       "      <td>17</td>\n",
       "      <td>6.341969</td>\n",
       "      <td>use take anoth oral contracept pill cycl happi...</td>\n",
       "      <td>0.105000</td>\n",
       "      <td>0.030</td>\n",
       "      <td>0.926</td>\n",
       "      <td>0.044</td>\n",
       "      <td>0.2732</td>\n",
       "    </tr>\n",
       "    <tr>\n",
       "      <th>3</th>\n",
       "      <td>35696</td>\n",
       "      <td>Buprenorphine / naloxone</td>\n",
       "      <td>Opiate Dependence</td>\n",
       "      <td>\"Suboxone has completely turned my life around...</td>\n",
       "      <td>9</td>\n",
       "      <td>2016-11-27</td>\n",
       "      <td>37</td>\n",
       "      <td>6.590176</td>\n",
       "      <td>suboxon complet turn life around feel healthie...</td>\n",
       "      <td>0.147037</td>\n",
       "      <td>0.073</td>\n",
       "      <td>0.707</td>\n",
       "      <td>0.219</td>\n",
       "      <td>0.8934</td>\n",
       "    </tr>\n",
       "    <tr>\n",
       "      <th>4</th>\n",
       "      <td>155963</td>\n",
       "      <td>Cialis</td>\n",
       "      <td>Benign Prostatic Hyperplasia</td>\n",
       "      <td>\"2nd day on 5mg started to work with rock hard...</td>\n",
       "      <td>2</td>\n",
       "      <td>2015-11-28</td>\n",
       "      <td>43</td>\n",
       "      <td>6.144782</td>\n",
       "      <td>nd day mg start work rock hard erect howev exp...</td>\n",
       "      <td>-0.013889</td>\n",
       "      <td>0.196</td>\n",
       "      <td>0.702</td>\n",
       "      <td>0.103</td>\n",
       "      <td>-0.4881</td>\n",
       "    </tr>\n",
       "  </tbody>\n",
       "</table>\n",
       "</div>"
      ],
      "text/plain": [
       "   patient_id              name_of_drug             use_case_for_drug  \\\n",
       "0      206461                 Valsartan  Left Ventricular Dysfunction   \n",
       "1       95260                Guanfacine                          ADHD   \n",
       "2       92703                    Lybrel                 Birth Control   \n",
       "3       35696  Buprenorphine / naloxone             Opiate Dependence   \n",
       "4      155963                    Cialis  Benign Prostatic Hyperplasia   \n",
       "\n",
       "                                   review_by_patient  effectiveness_rating  \\\n",
       "0  \"It has no side effect, I take it in combinati...                     9   \n",
       "1  \"My son is halfway through his fourth week of ...                     8   \n",
       "2  \"I used to take another oral contraceptive, wh...                     5   \n",
       "3  \"Suboxone has completely turned my life around...                     9   \n",
       "4  \"2nd day on 5mg started to work with rock hard...                     2   \n",
       "\n",
       "  drug_approved_by_UIC  number_of_times_prescribed  base_score  \\\n",
       "0           2012-05-20                          27    8.022969   \n",
       "1           2010-04-27                         192    7.858458   \n",
       "2           2009-12-14                          17    6.341969   \n",
       "3           2016-11-27                          37    6.590176   \n",
       "4           2015-11-28                          43    6.144782   \n",
       "\n",
       "                                        review_clean  Predict_Sentiment  \\\n",
       "0      no side effect take combin bystol mg fish oil           0.000000   \n",
       "1  son halfway fourth week intuniv becam concern ...           0.114583   \n",
       "2  use take anoth oral contracept pill cycl happi...           0.105000   \n",
       "3  suboxon complet turn life around feel healthie...           0.147037   \n",
       "4  nd day mg start work rock hard erect howev exp...          -0.013889   \n",
       "\n",
       "     neg    neu    pos  compound  \n",
       "0  0.216  0.784  0.000   -0.2960  \n",
       "1  0.056  0.823  0.121    0.6929  \n",
       "2  0.030  0.926  0.044    0.2732  \n",
       "3  0.073  0.707  0.219    0.8934  \n",
       "4  0.196  0.702  0.103   -0.4881  "
      ]
     },
     "execution_count": 83,
     "metadata": {},
     "output_type": "execute_result"
    }
   ],
   "source": [
    "df_train.head()"
   ]
  },
  {
   "cell_type": "code",
   "execution_count": 135,
   "metadata": {},
   "outputs": [],
   "source": [
    "# # t_min = -1\n",
    "# # t_max = 1\n",
    "\n",
    "# # r_min = min(df_train['effectiveness_rating'])\n",
    "# # r_max = max(df_train['effectiveness_rating'])\n",
    "\n",
    "# r_min = min(df_train['number_of_times_prescribed'])\n",
    "# r_max = max(df_train['number_of_times_prescribed'])\n",
    "\n",
    "# denom = r_max - r_min\n",
    "# numer = t_max - t_min\n",
    "# def normalizing_param(val):\n",
    "#     return ((abs(int(val)-r_min)/denom)*2)-1\n",
    "feats = ['effectiveness_rating', 'number_of_times_prescribed','Predict_Sentiment']\n",
    "train_stats = df_train[feats].describe()\n",
    "# train_stats.pop(\"base_score\")\n",
    "train_stats = train_stats.transpose()\n",
    "train_stats\n",
    "\n",
    "def norm(x):\n",
    "    return (x - train_stats['mean']) / train_stats['std']\n",
    "    \n",
    "    "
   ]
  },
  {
   "cell_type": "code",
   "execution_count": 136,
   "metadata": {},
   "outputs": [
    {
     "data": {
      "text/plain": [
       "effectiveness_rating           6.998912\n",
       "number_of_times_prescribed    27.893207\n",
       "Predict_Sentiment              0.080379\n",
       "Name: mean, dtype: float64"
      ]
     },
     "execution_count": 136,
     "metadata": {},
     "output_type": "execute_result"
    }
   ],
   "source": [
    "train_stats[\"mean\"]"
   ]
  },
  {
   "cell_type": "code",
   "execution_count": 137,
   "metadata": {},
   "outputs": [
    {
     "data": {
      "text/html": [
       "<div>\n",
       "<style scoped>\n",
       "    .dataframe tbody tr th:only-of-type {\n",
       "        vertical-align: middle;\n",
       "    }\n",
       "\n",
       "    .dataframe tbody tr th {\n",
       "        vertical-align: top;\n",
       "    }\n",
       "\n",
       "    .dataframe thead th {\n",
       "        text-align: right;\n",
       "    }\n",
       "</style>\n",
       "<table border=\"1\" class=\"dataframe\">\n",
       "  <thead>\n",
       "    <tr style=\"text-align: right;\">\n",
       "      <th></th>\n",
       "      <th>patient_id</th>\n",
       "      <th>name_of_drug</th>\n",
       "      <th>use_case_for_drug</th>\n",
       "      <th>review_by_patient</th>\n",
       "      <th>effectiveness_rating</th>\n",
       "      <th>drug_approved_by_UIC</th>\n",
       "      <th>number_of_times_prescribed</th>\n",
       "      <th>base_score</th>\n",
       "      <th>review_clean</th>\n",
       "      <th>Predict_Sentiment</th>\n",
       "      <th>neg</th>\n",
       "      <th>neu</th>\n",
       "      <th>pos</th>\n",
       "      <th>compound</th>\n",
       "    </tr>\n",
       "  </thead>\n",
       "  <tbody>\n",
       "    <tr>\n",
       "      <th>0</th>\n",
       "      <td>206461</td>\n",
       "      <td>Valsartan</td>\n",
       "      <td>Left Ventricular Dysfunction</td>\n",
       "      <td>\"It has no side effect, I take it in combinati...</td>\n",
       "      <td>9</td>\n",
       "      <td>2012-05-20</td>\n",
       "      <td>27</td>\n",
       "      <td>8.022969</td>\n",
       "      <td>no side effect take combin bystol mg fish oil</td>\n",
       "      <td>0.000000</td>\n",
       "      <td>0.216</td>\n",
       "      <td>0.784</td>\n",
       "      <td>0.000</td>\n",
       "      <td>-0.2960</td>\n",
       "    </tr>\n",
       "    <tr>\n",
       "      <th>1</th>\n",
       "      <td>95260</td>\n",
       "      <td>Guanfacine</td>\n",
       "      <td>ADHD</td>\n",
       "      <td>\"My son is halfway through his fourth week of ...</td>\n",
       "      <td>8</td>\n",
       "      <td>2010-04-27</td>\n",
       "      <td>192</td>\n",
       "      <td>7.858458</td>\n",
       "      <td>son halfway fourth week intuniv becam concern ...</td>\n",
       "      <td>0.114583</td>\n",
       "      <td>0.056</td>\n",
       "      <td>0.823</td>\n",
       "      <td>0.121</td>\n",
       "      <td>0.6929</td>\n",
       "    </tr>\n",
       "  </tbody>\n",
       "</table>\n",
       "</div>"
      ],
      "text/plain": [
       "   patient_id name_of_drug             use_case_for_drug  \\\n",
       "0      206461    Valsartan  Left Ventricular Dysfunction   \n",
       "1       95260   Guanfacine                          ADHD   \n",
       "\n",
       "                                   review_by_patient  effectiveness_rating  \\\n",
       "0  \"It has no side effect, I take it in combinati...                     9   \n",
       "1  \"My son is halfway through his fourth week of ...                     8   \n",
       "\n",
       "  drug_approved_by_UIC  number_of_times_prescribed  base_score  \\\n",
       "0           2012-05-20                          27    8.022969   \n",
       "1           2010-04-27                         192    7.858458   \n",
       "\n",
       "                                        review_clean  Predict_Sentiment  \\\n",
       "0      no side effect take combin bystol mg fish oil           0.000000   \n",
       "1  son halfway fourth week intuniv becam concern ...           0.114583   \n",
       "\n",
       "     neg    neu    pos  compound  \n",
       "0  0.216  0.784  0.000   -0.2960  \n",
       "1  0.056  0.823  0.121    0.6929  "
      ]
     },
     "execution_count": 137,
     "metadata": {},
     "output_type": "execute_result"
    }
   ],
   "source": [
    "df_train[:2]"
   ]
  },
  {
   "cell_type": "code",
   "execution_count": 138,
   "metadata": {},
   "outputs": [],
   "source": [
    "target = df_train['base_score']\n",
    "# feats = ['effectiveness_rating', 'number_of_times_prescribed', 'Predict_Sentiment']\n",
    "# df_train[feats].head()\n",
    "normed_train_data = norm(df_train[feats])\n",
    "normed_test_data = norm(df_test[feats])\n",
    "\n",
    "# normalized_predict_sentiment_train = df_train['Predict_Sentiment'].apply(normalizing_param)\n",
    "# normalized_predict_sentiment_test = df_test['Predict_Sentiment'].apply(normalizing_param)\n",
    "\n",
    "# df_train['Predict_Sentiment_normalized'] = normalized_predict_sentiment_train\n",
    "# df_test['Predict_Sentiment_normalized'] = normalized_predict_sentiment_test\n",
    "\n"
   ]
  },
  {
   "cell_type": "code",
   "execution_count": 102,
   "metadata": {},
   "outputs": [],
   "source": [
    "from sklearn.model_selection import train_test_split\n",
    "trn_x, val_x, trn_y, val_y = train_test_split(df_train[feats], target, test_size=0.2, random_state=42)"
   ]
  },
  {
   "cell_type": "code",
   "execution_count": 139,
   "metadata": {},
   "outputs": [
    {
     "data": {
      "text/html": [
       "<div>\n",
       "<style scoped>\n",
       "    .dataframe tbody tr th:only-of-type {\n",
       "        vertical-align: middle;\n",
       "    }\n",
       "\n",
       "    .dataframe tbody tr th {\n",
       "        vertical-align: top;\n",
       "    }\n",
       "\n",
       "    .dataframe thead th {\n",
       "        text-align: right;\n",
       "    }\n",
       "</style>\n",
       "<table border=\"1\" class=\"dataframe\">\n",
       "  <thead>\n",
       "    <tr style=\"text-align: right;\">\n",
       "      <th></th>\n",
       "      <th>effectiveness_rating</th>\n",
       "      <th>number_of_times_prescribed</th>\n",
       "      <th>Predict_Sentiment</th>\n",
       "    </tr>\n",
       "  </thead>\n",
       "  <tbody>\n",
       "    <tr>\n",
       "      <th>0</th>\n",
       "      <td>0.611060</td>\n",
       "      <td>-0.024937</td>\n",
       "      <td>-0.358732</td>\n",
       "    </tr>\n",
       "    <tr>\n",
       "      <th>1</th>\n",
       "      <td>0.305696</td>\n",
       "      <td>4.581553</td>\n",
       "      <td>0.152656</td>\n",
       "    </tr>\n",
       "    <tr>\n",
       "      <th>2</th>\n",
       "      <td>-0.610395</td>\n",
       "      <td>-0.304118</td>\n",
       "      <td>0.109886</td>\n",
       "    </tr>\n",
       "    <tr>\n",
       "      <th>3</th>\n",
       "      <td>0.611060</td>\n",
       "      <td>0.254245</td>\n",
       "      <td>0.297498</td>\n",
       "    </tr>\n",
       "    <tr>\n",
       "      <th>4</th>\n",
       "      <td>-1.526487</td>\n",
       "      <td>0.421753</td>\n",
       "      <td>-0.420719</td>\n",
       "    </tr>\n",
       "  </tbody>\n",
       "</table>\n",
       "</div>"
      ],
      "text/plain": [
       "   effectiveness_rating  number_of_times_prescribed  Predict_Sentiment\n",
       "0              0.611060                   -0.024937          -0.358732\n",
       "1              0.305696                    4.581553           0.152656\n",
       "2             -0.610395                   -0.304118           0.109886\n",
       "3              0.611060                    0.254245           0.297498\n",
       "4             -1.526487                    0.421753          -0.420719"
      ]
     },
     "execution_count": 139,
     "metadata": {},
     "output_type": "execute_result"
    }
   ],
   "source": [
    "normed_train_data.head()"
   ]
  },
  {
   "cell_type": "code",
   "execution_count": 181,
   "metadata": {},
   "outputs": [],
   "source": [
    "import tensorflow as tf\n",
    "\n",
    "from tensorflow import keras\n",
    "from tensorflow.keras import layers\n",
    "\n",
    "def build_model():\n",
    "    model = keras.Sequential([\n",
    "    layers.Dense(32, activation='relu', input_shape=[len(df_train[feats].keys())]),\n",
    "    layers.Dropout(0.5),\n",
    "    layers.Dense(32, activation='relu'),\n",
    "    layers.Dropout(0.5),\n",
    "    layers.Dense(32, activation='relu'),\n",
    "    layers.Dense(1)\n",
    "    ])\n",
    "    \n",
    "    lr_schedule = tf.keras.optimizers.schedules.InverseTimeDecay(\n",
    "        0.001,\n",
    "        decay_steps=30000, #NEEDS-ATTENTION hard coding\n",
    "        decay_rate=1,\n",
    "        staircase=False)\n",
    "    \n",
    "    optimizer = tf.keras.optimizers.Adam(lr_schedule)\n",
    "\n",
    "    model.compile(loss='mse',\n",
    "                    optimizer=optimizer,\n",
    "                    metrics=['mae', 'mse'])\n",
    "    return model"
   ]
  },
  {
   "cell_type": "code",
   "execution_count": 183,
   "metadata": {},
   "outputs": [],
   "source": [
    "model = build_model()"
   ]
  },
  {
   "cell_type": "code",
   "execution_count": 184,
   "metadata": {},
   "outputs": [
    {
     "name": "stdout",
     "output_type": "stream",
     "text": [
      "Model: \"sequential_11\"\n",
      "_________________________________________________________________\n",
      "Layer (type)                 Output Shape              Param #   \n",
      "=================================================================\n",
      "dense_35 (Dense)             (None, 32)                128       \n",
      "_________________________________________________________________\n",
      "dropout_2 (Dropout)          (None, 32)                0         \n",
      "_________________________________________________________________\n",
      "dense_36 (Dense)             (None, 32)                1056      \n",
      "_________________________________________________________________\n",
      "dropout_3 (Dropout)          (None, 32)                0         \n",
      "_________________________________________________________________\n",
      "dense_37 (Dense)             (None, 32)                1056      \n",
      "_________________________________________________________________\n",
      "dense_38 (Dense)             (None, 1)                 33        \n",
      "=================================================================\n",
      "Total params: 2,273\n",
      "Trainable params: 2,273\n",
      "Non-trainable params: 0\n",
      "_________________________________________________________________\n"
     ]
    }
   ],
   "source": [
    "model.summary()"
   ]
  },
  {
   "cell_type": "code",
   "execution_count": 185,
   "metadata": {},
   "outputs": [
    {
     "data": {
      "text/plain": [
       "array([[ 0.05147673],\n",
       "       [-0.29948655],\n",
       "       [-0.02644172],\n",
       "       [ 0.05154605],\n",
       "       [-0.11150815],\n",
       "       [-0.01120074],\n",
       "       [ 0.04697345],\n",
       "       [ 0.02039583],\n",
       "       [ 0.07668667],\n",
       "       [ 0.0143289 ]], dtype=float32)"
      ]
     },
     "execution_count": 185,
     "metadata": {},
     "output_type": "execute_result"
    }
   ],
   "source": [
    "example_batch = normed_train_data[:10]\n",
    "example_result = model.predict(example_batch)\n",
    "example_result"
   ]
  },
  {
   "cell_type": "code",
   "execution_count": 186,
   "metadata": {},
   "outputs": [],
   "source": [
    "\n",
    "train_labels = df_train['base_score']"
   ]
  },
  {
   "cell_type": "code",
   "execution_count": 187,
   "metadata": {},
   "outputs": [
    {
     "data": {
      "text/plain": [
       "0        8.022969\n",
       "1        7.858458\n",
       "2        6.341969\n",
       "3        6.590176\n",
       "4        6.144782\n",
       "           ...   \n",
       "32160    6.963020\n",
       "32161    0.899076\n",
       "32162    6.241812\n",
       "32163    7.940428\n",
       "32164    8.205393\n",
       "Name: base_score, Length: 32165, dtype: float64"
      ]
     },
     "execution_count": 187,
     "metadata": {},
     "output_type": "execute_result"
    }
   ],
   "source": [
    "train_labels"
   ]
  },
  {
   "cell_type": "code",
   "execution_count": 190,
   "metadata": {},
   "outputs": [
    {
     "name": "stdout",
     "output_type": "stream",
     "text": [
      "\n",
      "Epoch: 0, loss:1.5042,  mae:1.0418,  mse:1.5042,  val_loss:1.6606,  val_mae:1.0929,  val_mse:1.6606,  \n",
      "....................................................................................................\n",
      "Epoch: 100, loss:1.4872,  mae:1.0372,  mse:1.4872,  val_loss:1.6288,  val_mae:1.0839,  val_mse:1.6288,  \n",
      "....................................................................................................\n",
      "Epoch: 200, loss:1.4865,  mae:1.0380,  mse:1.4865,  val_loss:1.6507,  val_mae:1.0907,  val_mse:1.6507,  \n",
      ".................................................................."
     ]
    }
   ],
   "source": [
    "# The patience parameter is the amount of epochs to check for improvement\n",
    "EPOCHS = 5000\n",
    "import tensorflow_docs as tfdocs\n",
    "import tensorflow_docs.plots\n",
    "import tensorflow_docs.modeling\n",
    "early_stop = keras.callbacks.EarlyStopping(monitor='val_loss', patience=100)\n",
    "early_history = model.fit(normed_train_data, train_labels, \n",
    "                    epochs=EPOCHS, validation_split = 0.3, verbose=0, \n",
    "                    callbacks=[early_stop, tfdocs.modeling.EpochDots()])"
   ]
  },
  {
   "cell_type": "code",
   "execution_count": 175,
   "metadata": {},
   "outputs": [],
   "source": [
    "test_predictions = model.predict(normed_test_data).flatten()"
   ]
  },
  {
   "cell_type": "code",
   "execution_count": 176,
   "metadata": {},
   "outputs": [
    {
     "data": {
      "text/plain": [
       "10760"
      ]
     },
     "execution_count": 176,
     "metadata": {},
     "output_type": "execute_result"
    }
   ],
   "source": [
    "len(test_predictions)"
   ]
  },
  {
   "cell_type": "code",
   "execution_count": 177,
   "metadata": {},
   "outputs": [],
   "source": [
    "submission_df = pd.DataFrame()\n",
    "submission_df['patient_id'] = df_test['patient_id']\n",
    "submission_df['base_score'] = test_predictions"
   ]
  },
  {
   "cell_type": "code",
   "execution_count": 178,
   "metadata": {},
   "outputs": [],
   "source": [
    "submission_df.to_csv('../dataset/test_170030.csv', index=False)"
   ]
  },
  {
   "cell_type": "code",
   "execution_count": null,
   "metadata": {},
   "outputs": [],
   "source": []
  }
 ],
 "metadata": {
  "kernelspec": {
   "display_name": "Python 3",
   "language": "python",
   "name": "python3"
  },
  "language_info": {
   "codemirror_mode": {
    "name": "ipython",
    "version": 3
   },
   "file_extension": ".py",
   "mimetype": "text/x-python",
   "name": "python",
   "nbconvert_exporter": "python",
   "pygments_lexer": "ipython3",
   "version": "3.7.0"
  }
 },
 "nbformat": 4,
 "nbformat_minor": 4
}